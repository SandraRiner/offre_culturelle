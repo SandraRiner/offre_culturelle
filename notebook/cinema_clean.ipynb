{
 "cells": [
  {
   "cell_type": "code",
   "execution_count": 1,
   "id": "0bb0f952",
   "metadata": {},
   "outputs": [],
   "source": [
    "import numpy as np\n",
    "import pandas as pd\n",
    "import matplotlib as plt\n",
    "import seaborn as sn"
   ]
  },
  {
   "cell_type": "code",
   "execution_count": 4,
   "id": "838d7dc8",
   "metadata": {},
   "outputs": [
    {
     "data": {
      "text/plain": [
       "Index(['Nom_cinema', 'code_postal', 'commune'], dtype='object')"
      ]
     },
     "execution_count": 4,
     "metadata": {},
     "output_type": "execute_result"
    }
   ],
   "source": [
    "df = pd.read_csv('../data/liste_cinema_2024_clean.csv', sep=';', encoding='cp1252')\n",
    "df.columns"
   ]
  },
  {
   "cell_type": "code",
   "execution_count": 5,
   "id": "4589852d",
   "metadata": {},
   "outputs": [],
   "source": [
    "# Fonction pour extraire le code département\n",
    "def get_departement(cp):\n",
    "    # Si c'est un code postal corse ou DOM-TOM\n",
    "    if cp.startswith('20'):  # Corse\n",
    "        return cp[:3] if cp[:3] in ['2A2', '2B2'] else cp[:2]\n",
    "    elif cp[:2] in ['97', '98']:  # DOM-TOM\n",
    "        return cp[:3]\n",
    "    else:\n",
    "        return cp[:2]\n",
    "\n",
    "# Créer la nouvelle colonne\n",
    "df['code_departement'] = df['code_postal'].apply(get_departement)"
   ]
  },
  {
   "cell_type": "code",
   "execution_count": 6,
   "id": "3e7e10d6",
   "metadata": {},
   "outputs": [
    {
     "data": {
      "text/html": [
       "<div>\n",
       "<style scoped>\n",
       "    .dataframe tbody tr th:only-of-type {\n",
       "        vertical-align: middle;\n",
       "    }\n",
       "\n",
       "    .dataframe tbody tr th {\n",
       "        vertical-align: top;\n",
       "    }\n",
       "\n",
       "    .dataframe thead th {\n",
       "        text-align: right;\n",
       "    }\n",
       "</style>\n",
       "<table border=\"1\" class=\"dataframe\">\n",
       "  <thead>\n",
       "    <tr style=\"text-align: right;\">\n",
       "      <th></th>\n",
       "      <th>Nom_cinema</th>\n",
       "      <th>code_postal</th>\n",
       "      <th>commune</th>\n",
       "      <th>code_departement</th>\n",
       "    </tr>\n",
       "  </thead>\n",
       "  <tbody>\n",
       "    <tr>\n",
       "      <th>0</th>\n",
       "      <td>NomEtab</td>\n",
       "      <td>DEPCOM</td>\n",
       "      <td>COMMUNE</td>\n",
       "      <td>DE</td>\n",
       "    </tr>\n",
       "    <tr>\n",
       "      <th>1</th>\n",
       "      <td>UGC NORMANDIE</td>\n",
       "      <td>75108</td>\n",
       "      <td>Paris 8e Arrondissement</td>\n",
       "      <td>75</td>\n",
       "    </tr>\n",
       "    <tr>\n",
       "      <th>2</th>\n",
       "      <td>BALZAC</td>\n",
       "      <td>75108</td>\n",
       "      <td>Paris 8e Arrondissement</td>\n",
       "      <td>75</td>\n",
       "    </tr>\n",
       "    <tr>\n",
       "      <th>3</th>\n",
       "      <td>ELYSEES LINCOLN</td>\n",
       "      <td>75108</td>\n",
       "      <td>Paris 8e Arrondissement</td>\n",
       "      <td>75</td>\n",
       "    </tr>\n",
       "    <tr>\n",
       "      <th>4</th>\n",
       "      <td>UGC OPERA</td>\n",
       "      <td>75109</td>\n",
       "      <td>Paris 9e Arrondissement</td>\n",
       "      <td>75</td>\n",
       "    </tr>\n",
       "    <tr>\n",
       "      <th>...</th>\n",
       "      <td>...</td>\n",
       "      <td>...</td>\n",
       "      <td>...</td>\n",
       "      <td>...</td>\n",
       "    </tr>\n",
       "    <tr>\n",
       "      <th>2049</th>\n",
       "      <td>CAROUSSEL</td>\n",
       "      <td>55545</td>\n",
       "      <td>Verdun</td>\n",
       "      <td>55</td>\n",
       "    </tr>\n",
       "    <tr>\n",
       "      <th>2050</th>\n",
       "      <td>CLUB 6</td>\n",
       "      <td>70550</td>\n",
       "      <td>Vesoul</td>\n",
       "      <td>70</td>\n",
       "    </tr>\n",
       "    <tr>\n",
       "      <th>2051</th>\n",
       "      <td>L'ARCHE</td>\n",
       "      <td>54580</td>\n",
       "      <td>Villerupt</td>\n",
       "      <td>54</td>\n",
       "    </tr>\n",
       "    <tr>\n",
       "      <th>2052</th>\n",
       "      <td>ALHAMBRA</td>\n",
       "      <td>88516</td>\n",
       "      <td>Vittel</td>\n",
       "      <td>88</td>\n",
       "    </tr>\n",
       "    <tr>\n",
       "      <th>2053</th>\n",
       "      <td>MA JESTIC - ESPACE DES LUMIERES</td>\n",
       "      <td>70550</td>\n",
       "      <td>Vesoul</td>\n",
       "      <td>70</td>\n",
       "    </tr>\n",
       "  </tbody>\n",
       "</table>\n",
       "<p>2054 rows × 4 columns</p>\n",
       "</div>"
      ],
      "text/plain": [
       "                           Nom_cinema code_postal                  commune  \\\n",
       "0                             NomEtab      DEPCOM                  COMMUNE   \n",
       "1                       UGC NORMANDIE       75108  Paris 8e Arrondissement   \n",
       "2                              BALZAC       75108  Paris 8e Arrondissement   \n",
       "3                     ELYSEES LINCOLN       75108  Paris 8e Arrondissement   \n",
       "4                           UGC OPERA       75109  Paris 9e Arrondissement   \n",
       "...                               ...         ...                      ...   \n",
       "2049                        CAROUSSEL       55545                   Verdun   \n",
       "2050                           CLUB 6       70550                   Vesoul   \n",
       "2051                          L'ARCHE       54580                Villerupt   \n",
       "2052                         ALHAMBRA       88516                   Vittel   \n",
       "2053  MA JESTIC - ESPACE DES LUMIERES       70550                   Vesoul   \n",
       "\n",
       "     code_departement  \n",
       "0                  DE  \n",
       "1                  75  \n",
       "2                  75  \n",
       "3                  75  \n",
       "4                  75  \n",
       "...               ...  \n",
       "2049               55  \n",
       "2050               70  \n",
       "2051               54  \n",
       "2052               88  \n",
       "2053               70  \n",
       "\n",
       "[2054 rows x 4 columns]"
      ]
     },
     "execution_count": 6,
     "metadata": {},
     "output_type": "execute_result"
    }
   ],
   "source": [
    "df"
   ]
  },
  {
   "cell_type": "code",
   "execution_count": 8,
   "id": "0d08f572",
   "metadata": {},
   "outputs": [],
   "source": [
    "df.to_csv('../data/cinema_clean.csv', index=False, sep=';')"
   ]
  }
 ],
 "metadata": {
  "kernelspec": {
   "display_name": "offre_culturelle",
   "language": "python",
   "name": "python3"
  },
  "language_info": {
   "codemirror_mode": {
    "name": "ipython",
    "version": 3
   },
   "file_extension": ".py",
   "mimetype": "text/x-python",
   "name": "python",
   "nbconvert_exporter": "python",
   "pygments_lexer": "ipython3",
   "version": "3.10.12"
  }
 },
 "nbformat": 4,
 "nbformat_minor": 5
}
