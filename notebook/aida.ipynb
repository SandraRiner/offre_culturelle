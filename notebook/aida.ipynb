{
 "cells": [
  {
   "cell_type": "code",
   "execution_count": 1,
   "id": "58e65f1a",
   "metadata": {},
   "outputs": [],
   "source": [
    "import pandas as pd\n",
    "import numpy as np\n",
    "\n",
    "\n"
   ]
  },
  {
   "cell_type": "code",
   "execution_count": 41,
   "id": "c4809e67",
   "metadata": {},
   "outputs": [
    {
     "data": {
      "text/html": [
       "<div>\n",
       "<style scoped>\n",
       "    .dataframe tbody tr th:only-of-type {\n",
       "        vertical-align: middle;\n",
       "    }\n",
       "\n",
       "    .dataframe tbody tr th {\n",
       "        vertical-align: top;\n",
       "    }\n",
       "\n",
       "    .dataframe thead th {\n",
       "        text-align: right;\n",
       "    }\n",
       "</style>\n",
       "<table border=\"1\" class=\"dataframe\">\n",
       "  <thead>\n",
       "    <tr style=\"text-align: right;\">\n",
       "      <th></th>\n",
       "      <th>Identifiant Muséofile</th>\n",
       "      <th>Région administrative</th>\n",
       "      <th>Département</th>\n",
       "      <th>Commune</th>\n",
       "      <th>Nom officiel du musée</th>\n",
       "      <th>Adresse</th>\n",
       "      <th>Lieu</th>\n",
       "      <th>Code Postal</th>\n",
       "      <th>Téléphone</th>\n",
       "      <th>URL</th>\n",
       "      <th>Latitude</th>\n",
       "      <th>Longitude</th>\n",
       "      <th>REF_Deps</th>\n",
       "    </tr>\n",
       "  </thead>\n",
       "  <tbody>\n",
       "    <tr>\n",
       "      <th>0</th>\n",
       "      <td>M0967</td>\n",
       "      <td>Auvergne-Rhône-Alpes</td>\n",
       "      <td>Ain</td>\n",
       "      <td>Lochieu</td>\n",
       "      <td>musée du Bugey-Valromey</td>\n",
       "      <td>3 rue Centrale</td>\n",
       "      <td>NaN</td>\n",
       "      <td>1260.0</td>\n",
       "      <td>04 79 87 52 23</td>\n",
       "      <td>patrimoines.ain.fr/n/musee-du-bugey-valromey/n...</td>\n",
       "      <td>45,930633</td>\n",
       "      <td>5,727664</td>\n",
       "      <td>0121801</td>\n",
       "    </tr>\n",
       "    <tr>\n",
       "      <th>1</th>\n",
       "      <td>M0964</td>\n",
       "      <td>Auvergne-Rhône-Alpes</td>\n",
       "      <td>Ain</td>\n",
       "      <td>Bourg-en-Bresse</td>\n",
       "      <td>musées des pays de l'Ain</td>\n",
       "      <td>34, rue Général Delestraint</td>\n",
       "      <td>NaN</td>\n",
       "      <td>1000.0</td>\n",
       "      <td>04 74 32 10 60</td>\n",
       "      <td>www.ain.fr/solutions-services-infos-pratiques/...</td>\n",
       "      <td>46,196543</td>\n",
       "      <td>5,219217</td>\n",
       "      <td>0105302</td>\n",
       "    </tr>\n",
       "  </tbody>\n",
       "</table>\n",
       "</div>"
      ],
      "text/plain": [
       "  Identifiant Muséofile Région administrative Département          Commune  \\\n",
       "0                 M0967  Auvergne-Rhône-Alpes         Ain          Lochieu   \n",
       "1                 M0964  Auvergne-Rhône-Alpes         Ain  Bourg-en-Bresse   \n",
       "\n",
       "      Nom officiel du musée                      Adresse Lieu  Code Postal  \\\n",
       "0   musée du Bugey-Valromey               3 rue Centrale  NaN       1260.0   \n",
       "1  musées des pays de l'Ain  34, rue Général Delestraint  NaN       1000.0   \n",
       "\n",
       "        Téléphone                                                URL  \\\n",
       "0  04 79 87 52 23  patrimoines.ain.fr/n/musee-du-bugey-valromey/n...   \n",
       "1  04 74 32 10 60  www.ain.fr/solutions-services-infos-pratiques/...   \n",
       "\n",
       "    Latitude Longitude REF_Deps  \n",
       "0  45,930633  5,727664  0121801  \n",
       "1  46,196543  5,219217  0105302  "
      ]
     },
     "execution_count": 41,
     "metadata": {},
     "output_type": "execute_result"
    }
   ],
   "source": [
    "df = pd.read_csv('../source/data/liste-officielle-museesdf-20220127-data.csv', sep =';') \n",
    "df.head(2)"
   ]
  },
  {
   "cell_type": "code",
   "execution_count": 3,
   "id": "5d95fbf7",
   "metadata": {},
   "outputs": [
    {
     "data": {
      "text/html": [
       "<div>\n",
       "<style scoped>\n",
       "    .dataframe tbody tr th:only-of-type {\n",
       "        vertical-align: middle;\n",
       "    }\n",
       "\n",
       "    .dataframe tbody tr th {\n",
       "        vertical-align: top;\n",
       "    }\n",
       "\n",
       "    .dataframe thead th {\n",
       "        text-align: right;\n",
       "    }\n",
       "</style>\n",
       "<table border=\"1\" class=\"dataframe\">\n",
       "  <thead>\n",
       "    <tr style=\"text-align: right;\">\n",
       "      <th></th>\n",
       "      <th>Code Postal</th>\n",
       "    </tr>\n",
       "  </thead>\n",
       "  <tbody>\n",
       "    <tr>\n",
       "      <th>count</th>\n",
       "      <td>1220.000000</td>\n",
       "    </tr>\n",
       "    <tr>\n",
       "      <th>mean</th>\n",
       "      <td>49991.423770</td>\n",
       "    </tr>\n",
       "    <tr>\n",
       "      <th>std</th>\n",
       "      <td>27363.489686</td>\n",
       "    </tr>\n",
       "    <tr>\n",
       "      <th>min</th>\n",
       "      <td>1000.000000</td>\n",
       "    </tr>\n",
       "    <tr>\n",
       "      <th>25%</th>\n",
       "      <td>26510.000000</td>\n",
       "    </tr>\n",
       "    <tr>\n",
       "      <th>50%</th>\n",
       "      <td>52300.000000</td>\n",
       "    </tr>\n",
       "    <tr>\n",
       "      <th>75%</th>\n",
       "      <td>75003.250000</td>\n",
       "    </tr>\n",
       "    <tr>\n",
       "      <th>max</th>\n",
       "      <td>97615.000000</td>\n",
       "    </tr>\n",
       "  </tbody>\n",
       "</table>\n",
       "</div>"
      ],
      "text/plain": [
       "        Code Postal\n",
       "count   1220.000000\n",
       "mean   49991.423770\n",
       "std    27363.489686\n",
       "min     1000.000000\n",
       "25%    26510.000000\n",
       "50%    52300.000000\n",
       "75%    75003.250000\n",
       "max    97615.000000"
      ]
     },
     "execution_count": 3,
     "metadata": {},
     "output_type": "execute_result"
    }
   ],
   "source": [
    "df.describe()"
   ]
  },
  {
   "cell_type": "code",
   "execution_count": 4,
   "id": "64d9d903",
   "metadata": {},
   "outputs": [
    {
     "data": {
      "text/plain": [
       "(1221, 13)"
      ]
     },
     "execution_count": 4,
     "metadata": {},
     "output_type": "execute_result"
    }
   ],
   "source": [
    "df.shape"
   ]
  },
  {
   "cell_type": "code",
   "execution_count": 5,
   "id": "711a3295",
   "metadata": {},
   "outputs": [
    {
     "data": {
      "text/plain": [
       "Identifiant Muséofile      0\n",
       "Région administrative      0\n",
       "Département                0\n",
       "Commune                    0\n",
       "Nom officiel du musée      0\n",
       "Adresse                   64\n",
       "Lieu                     704\n",
       "Code Postal                1\n",
       "Téléphone                 26\n",
       "URL                       84\n",
       "Latitude                   0\n",
       "Longitude                  0\n",
       "REF_Deps                  11\n",
       "dtype: int64"
      ]
     },
     "execution_count": 5,
     "metadata": {},
     "output_type": "execute_result"
    }
   ],
   "source": [
    "df.isna().sum()"
   ]
  },
  {
   "cell_type": "code",
   "execution_count": 40,
   "id": "ad0a334d",
   "metadata": {},
   "outputs": [
    {
     "data": {
      "text/html": [
       "<div>\n",
       "<style scoped>\n",
       "    .dataframe tbody tr th:only-of-type {\n",
       "        vertical-align: middle;\n",
       "    }\n",
       "\n",
       "    .dataframe tbody tr th {\n",
       "        vertical-align: top;\n",
       "    }\n",
       "\n",
       "    .dataframe thead th {\n",
       "        text-align: right;\n",
       "    }\n",
       "</style>\n",
       "<table border=\"1\" class=\"dataframe\">\n",
       "  <thead>\n",
       "    <tr style=\"text-align: right;\">\n",
       "      <th></th>\n",
       "      <th>Identifiant Muséofile</th>\n",
       "      <th>Région administrative</th>\n",
       "      <th>Département</th>\n",
       "      <th>Commune</th>\n",
       "      <th>Nom officiel du musée</th>\n",
       "      <th>Code Postal</th>\n",
       "      <th>URL</th>\n",
       "      <th>Latitude</th>\n",
       "      <th>Longitude</th>\n",
       "    </tr>\n",
       "  </thead>\n",
       "  <tbody>\n",
       "    <tr>\n",
       "      <th>0</th>\n",
       "      <td>M0967</td>\n",
       "      <td>Auvergne-Rhône-Alpes</td>\n",
       "      <td>Ain</td>\n",
       "      <td>Lochieu</td>\n",
       "      <td>musée du Bugey-Valromey</td>\n",
       "      <td>1260.0</td>\n",
       "      <td>patrimoines.ain.fr/n/musee-du-bugey-valromey/n...</td>\n",
       "      <td>45,930633</td>\n",
       "      <td>5,727664</td>\n",
       "    </tr>\n",
       "    <tr>\n",
       "      <th>1</th>\n",
       "      <td>M0964</td>\n",
       "      <td>Auvergne-Rhône-Alpes</td>\n",
       "      <td>Ain</td>\n",
       "      <td>Bourg-en-Bresse</td>\n",
       "      <td>musées des pays de l'Ain</td>\n",
       "      <td>1000.0</td>\n",
       "      <td>www.ain.fr/solutions-services-infos-pratiques/...</td>\n",
       "      <td>46,196543</td>\n",
       "      <td>5,219217</td>\n",
       "    </tr>\n",
       "  </tbody>\n",
       "</table>\n",
       "</div>"
      ],
      "text/plain": [
       "  Identifiant Muséofile Région administrative Département          Commune  \\\n",
       "0                 M0967  Auvergne-Rhône-Alpes         Ain          Lochieu   \n",
       "1                 M0964  Auvergne-Rhône-Alpes         Ain  Bourg-en-Bresse   \n",
       "\n",
       "      Nom officiel du musée  Code Postal  \\\n",
       "0   musée du Bugey-Valromey       1260.0   \n",
       "1  musées des pays de l'Ain       1000.0   \n",
       "\n",
       "                                                 URL   Latitude Longitude  \n",
       "0  patrimoines.ain.fr/n/musee-du-bugey-valromey/n...  45,930633  5,727664  \n",
       "1  www.ain.fr/solutions-services-infos-pratiques/...  46,196543  5,219217  "
      ]
     },
     "execution_count": 40,
     "metadata": {},
     "output_type": "execute_result"
    }
   ],
   "source": [
    "df.drop(columns=['Adresse','Lieu','Téléphone','REF_Deps']).dropna().head(2)"
   ]
  },
  {
   "cell_type": "code",
   "execution_count": 7,
   "id": "740e5dbc",
   "metadata": {},
   "outputs": [
    {
     "name": "stdout",
     "output_type": "stream",
     "text": [
      "Requirement already satisfied: matplotlib in /root/.pyenv/versions/3.10.12/envs/offre_culturelle/lib/python3.10/site-packages (3.10.5)\n",
      "Requirement already satisfied: cycler>=0.10 in /root/.pyenv/versions/3.10.12/envs/offre_culturelle/lib/python3.10/site-packages (from matplotlib) (0.12.1)\n",
      "Requirement already satisfied: contourpy>=1.0.1 in /root/.pyenv/versions/3.10.12/envs/offre_culturelle/lib/python3.10/site-packages (from matplotlib) (1.3.2)\n",
      "Requirement already satisfied: kiwisolver>=1.3.1 in /root/.pyenv/versions/3.10.12/envs/offre_culturelle/lib/python3.10/site-packages (from matplotlib) (1.4.8)\n",
      "Requirement already satisfied: fonttools>=4.22.0 in /root/.pyenv/versions/3.10.12/envs/offre_culturelle/lib/python3.10/site-packages (from matplotlib) (4.59.0)\n",
      "Requirement already satisfied: pyparsing>=2.3.1 in /root/.pyenv/versions/3.10.12/envs/offre_culturelle/lib/python3.10/site-packages (from matplotlib) (3.2.3)\n",
      "Requirement already satisfied: packaging>=20.0 in /root/.pyenv/versions/3.10.12/envs/offre_culturelle/lib/python3.10/site-packages (from matplotlib) (25.0)\n",
      "Requirement already satisfied: pillow>=8 in /root/.pyenv/versions/3.10.12/envs/offre_culturelle/lib/python3.10/site-packages (from matplotlib) (11.3.0)\n",
      "Requirement already satisfied: numpy>=1.23 in /root/.pyenv/versions/3.10.12/envs/offre_culturelle/lib/python3.10/site-packages (from matplotlib) (2.2.6)\n",
      "Requirement already satisfied: python-dateutil>=2.7 in /root/.pyenv/versions/3.10.12/envs/offre_culturelle/lib/python3.10/site-packages (from matplotlib) (2.9.0.post0)\n",
      "Requirement already satisfied: six>=1.5 in /root/.pyenv/versions/3.10.12/envs/offre_culturelle/lib/python3.10/site-packages (from python-dateutil>=2.7->matplotlib) (1.17.0)\n",
      "\n",
      "\u001b[1m[\u001b[0m\u001b[34;49mnotice\u001b[0m\u001b[1;39;49m]\u001b[0m\u001b[39;49m A new release of pip is available: \u001b[0m\u001b[31;49m23.0.1\u001b[0m\u001b[39;49m -> \u001b[0m\u001b[32;49m25.2\u001b[0m\n",
      "\u001b[1m[\u001b[0m\u001b[34;49mnotice\u001b[0m\u001b[1;39;49m]\u001b[0m\u001b[39;49m To update, run: \u001b[0m\u001b[32;49mpip install --upgrade pip\u001b[0m\n",
      "Requirement already satisfied: seaborn in /root/.pyenv/versions/3.10.12/envs/offre_culturelle/lib/python3.10/site-packages (0.13.2)\n",
      "Requirement already satisfied: numpy!=1.24.0,>=1.20 in /root/.pyenv/versions/3.10.12/envs/offre_culturelle/lib/python3.10/site-packages (from seaborn) (2.2.6)\n",
      "Requirement already satisfied: pandas>=1.2 in /root/.pyenv/versions/3.10.12/envs/offre_culturelle/lib/python3.10/site-packages (from seaborn) (2.3.1)\n",
      "Requirement already satisfied: matplotlib!=3.6.1,>=3.4 in /root/.pyenv/versions/3.10.12/envs/offre_culturelle/lib/python3.10/site-packages (from seaborn) (3.10.5)\n",
      "Requirement already satisfied: contourpy>=1.0.1 in /root/.pyenv/versions/3.10.12/envs/offre_culturelle/lib/python3.10/site-packages (from matplotlib!=3.6.1,>=3.4->seaborn) (1.3.2)\n",
      "Requirement already satisfied: packaging>=20.0 in /root/.pyenv/versions/3.10.12/envs/offre_culturelle/lib/python3.10/site-packages (from matplotlib!=3.6.1,>=3.4->seaborn) (25.0)\n",
      "Requirement already satisfied: pillow>=8 in /root/.pyenv/versions/3.10.12/envs/offre_culturelle/lib/python3.10/site-packages (from matplotlib!=3.6.1,>=3.4->seaborn) (11.3.0)\n",
      "Requirement already satisfied: python-dateutil>=2.7 in /root/.pyenv/versions/3.10.12/envs/offre_culturelle/lib/python3.10/site-packages (from matplotlib!=3.6.1,>=3.4->seaborn) (2.9.0.post0)\n",
      "Requirement already satisfied: kiwisolver>=1.3.1 in /root/.pyenv/versions/3.10.12/envs/offre_culturelle/lib/python3.10/site-packages (from matplotlib!=3.6.1,>=3.4->seaborn) (1.4.8)\n",
      "Requirement already satisfied: fonttools>=4.22.0 in /root/.pyenv/versions/3.10.12/envs/offre_culturelle/lib/python3.10/site-packages (from matplotlib!=3.6.1,>=3.4->seaborn) (4.59.0)\n",
      "Requirement already satisfied: pyparsing>=2.3.1 in /root/.pyenv/versions/3.10.12/envs/offre_culturelle/lib/python3.10/site-packages (from matplotlib!=3.6.1,>=3.4->seaborn) (3.2.3)\n",
      "Requirement already satisfied: cycler>=0.10 in /root/.pyenv/versions/3.10.12/envs/offre_culturelle/lib/python3.10/site-packages (from matplotlib!=3.6.1,>=3.4->seaborn) (0.12.1)\n",
      "Requirement already satisfied: tzdata>=2022.7 in /root/.pyenv/versions/3.10.12/envs/offre_culturelle/lib/python3.10/site-packages (from pandas>=1.2->seaborn) (2025.2)\n",
      "Requirement already satisfied: pytz>=2020.1 in /root/.pyenv/versions/3.10.12/envs/offre_culturelle/lib/python3.10/site-packages (from pandas>=1.2->seaborn) (2025.2)\n",
      "Requirement already satisfied: six>=1.5 in /root/.pyenv/versions/3.10.12/envs/offre_culturelle/lib/python3.10/site-packages (from python-dateutil>=2.7->matplotlib!=3.6.1,>=3.4->seaborn) (1.17.0)\n",
      "\n",
      "\u001b[1m[\u001b[0m\u001b[34;49mnotice\u001b[0m\u001b[1;39;49m]\u001b[0m\u001b[39;49m A new release of pip is available: \u001b[0m\u001b[31;49m23.0.1\u001b[0m\u001b[39;49m -> \u001b[0m\u001b[32;49m25.2\u001b[0m\n",
      "\u001b[1m[\u001b[0m\u001b[34;49mnotice\u001b[0m\u001b[1;39;49m]\u001b[0m\u001b[39;49m To update, run: \u001b[0m\u001b[32;49mpip install --upgrade pip\u001b[0m\n",
      "Requirement already satisfied: plotly.express in /root/.pyenv/versions/3.10.12/envs/offre_culturelle/lib/python3.10/site-packages (0.4.1)\n",
      "Requirement already satisfied: pandas>=0.20.0 in /root/.pyenv/versions/3.10.12/envs/offre_culturelle/lib/python3.10/site-packages (from plotly.express) (2.3.1)\n",
      "Requirement already satisfied: patsy>=0.5 in /root/.pyenv/versions/3.10.12/envs/offre_culturelle/lib/python3.10/site-packages (from plotly.express) (1.0.1)\n",
      "Requirement already satisfied: plotly>=4.1.0 in /root/.pyenv/versions/3.10.12/envs/offre_culturelle/lib/python3.10/site-packages (from plotly.express) (6.2.0)\n",
      "Requirement already satisfied: numpy>=1.11 in /root/.pyenv/versions/3.10.12/envs/offre_culturelle/lib/python3.10/site-packages (from plotly.express) (2.2.6)\n",
      "Requirement already satisfied: statsmodels>=0.9.0 in /root/.pyenv/versions/3.10.12/envs/offre_culturelle/lib/python3.10/site-packages (from plotly.express) (0.14.5)\n",
      "Requirement already satisfied: scipy>=0.18 in /root/.pyenv/versions/3.10.12/envs/offre_culturelle/lib/python3.10/site-packages (from plotly.express) (1.15.3)\n",
      "Requirement already satisfied: pytz>=2020.1 in /root/.pyenv/versions/3.10.12/envs/offre_culturelle/lib/python3.10/site-packages (from pandas>=0.20.0->plotly.express) (2025.2)\n",
      "Requirement already satisfied: python-dateutil>=2.8.2 in /root/.pyenv/versions/3.10.12/envs/offre_culturelle/lib/python3.10/site-packages (from pandas>=0.20.0->plotly.express) (2.9.0.post0)\n",
      "Requirement already satisfied: tzdata>=2022.7 in /root/.pyenv/versions/3.10.12/envs/offre_culturelle/lib/python3.10/site-packages (from pandas>=0.20.0->plotly.express) (2025.2)\n",
      "Requirement already satisfied: narwhals>=1.15.1 in /root/.pyenv/versions/3.10.12/envs/offre_culturelle/lib/python3.10/site-packages (from plotly>=4.1.0->plotly.express) (2.0.1)\n",
      "Requirement already satisfied: packaging in /root/.pyenv/versions/3.10.12/envs/offre_culturelle/lib/python3.10/site-packages (from plotly>=4.1.0->plotly.express) (25.0)\n",
      "Requirement already satisfied: six>=1.5 in /root/.pyenv/versions/3.10.12/envs/offre_culturelle/lib/python3.10/site-packages (from python-dateutil>=2.8.2->pandas>=0.20.0->plotly.express) (1.17.0)\n",
      "\n",
      "\u001b[1m[\u001b[0m\u001b[34;49mnotice\u001b[0m\u001b[1;39;49m]\u001b[0m\u001b[39;49m A new release of pip is available: \u001b[0m\u001b[31;49m23.0.1\u001b[0m\u001b[39;49m -> \u001b[0m\u001b[32;49m25.2\u001b[0m\n",
      "\u001b[1m[\u001b[0m\u001b[34;49mnotice\u001b[0m\u001b[1;39;49m]\u001b[0m\u001b[39;49m To update, run: \u001b[0m\u001b[32;49mpip install --upgrade pip\u001b[0m\n"
     ]
    }
   ],
   "source": [
    "!pip install matplotlib\n",
    "!pip install seaborn\n",
    "!pip install plotly.express"
   ]
  },
  {
   "cell_type": "code",
   "execution_count": 35,
   "id": "15bce1ad",
   "metadata": {},
   "outputs": [],
   "source": [
    "from matplotlib import pyplot as plt\n",
    "import seaborn as sns\n",
    "import seaborn as sns\n",
    "import plotly.express as px\n"
   ]
  },
  {
   "cell_type": "code",
   "execution_count": 29,
   "id": "13d1d547",
   "metadata": {},
   "outputs": [
    {
     "data": {
      "image/png": "[encoded data removed]",
      "text/plain": [
       "<Figure size 640x480 with 1 Axes>"
      ]
     },
     "metadata": {},
     "output_type": "display_data"
    }
   ],
   "source": [
    "#Région administrative\tDépartement\n",
    "\n",
    "Région_counts = df['Région administrative'].value_counts().reset_index()\n",
    "Région_counts.columns = ['Région administrative', 'count']\n",
    "\n",
    "sns.barplot(data=Région_counts, x='Région administrative', y='count')\n",
    "plt.xticks(rotation=90)\n",
    "plt.title('Nombre de lignes par région administrative')\n",
    "plt.show()"
   ]
  },
  {
   "cell_type": "code",
   "execution_count": 51,
   "id": "564e5810",
   "metadata": {},
   "outputs": [
    {
     "name": "stderr",
     "output_type": "stream",
     "text": [
      "/tmp/ipykernel_36123/3234005112.py:1: DtypeWarning:\n",
      "\n",
      "Columns (3,4,13,21,22,23,24,28,29,32,33,44) have mixed types. Specify dtype option on import or set low_memory=False.\n",
      "\n"
     ]
    }
   ],
   "source": [
    "df = pd.read_csv('../source/data/base-des-lieux-et-des-equipements-culturels.csv', sep =';', dtype={ 'colonne_3': str,\n",
    "        'colonne_4': str,\n",
    "        'colonne_13': str,\n",
    "        'colonne_21': str,\n",
    "        'colonne_22': str,\n",
    "        'colonne_23': str,\n",
    "        'colonne_24': str,\n",
    "        'colonne_28': str,\n",
    "        'colonne_29': str,\n",
    "        'colonne_32': str,\n",
    "        'colonne_33': str,\n",
    "        'colonne_44': str,}) \n"
   ]
  },
  {
   "cell_type": "code",
   "execution_count": 57,
   "id": "056d9dc2",
   "metadata": {},
   "outputs": [
    {
     "data": {
      "text/html": [
       "<div>\n",
       "<style scoped>\n",
       "    .dataframe tbody tr th:only-of-type {\n",
       "        vertical-align: middle;\n",
       "    }\n",
       "\n",
       "    .dataframe tbody tr th {\n",
       "        vertical-align: top;\n",
       "    }\n",
       "\n",
       "    .dataframe thead th {\n",
       "        text-align: right;\n",
       "    }\n",
       "</style>\n",
       "<table border=\"1\" class=\"dataframe\">\n",
       "  <thead>\n",
       "    <tr style=\"text-align: right;\">\n",
       "      <th></th>\n",
       "      <th>Nom</th>\n",
       "      <th>Code Postal</th>\n",
       "      <th>Type équipement ou lieu</th>\n",
       "      <th>Région</th>\n",
       "      <th>Domaine</th>\n",
       "      <th>Latitude</th>\n",
       "      <th>Longitude</th>\n",
       "      <th>Demographie_AP</th>\n",
       "    </tr>\n",
       "  </thead>\n",
       "  <tbody>\n",
       "    <tr>\n",
       "      <th>0</th>\n",
       "      <td>Médiathèque de l'Accolade 4 rue de la Marie</td>\n",
       "      <td>35250</td>\n",
       "      <td>Bibliothèque</td>\n",
       "      <td>Bretagne</td>\n",
       "      <td>Lecture publique</td>\n",
       "      <td>48.212062</td>\n",
       "      <td>-1.630423</td>\n",
       "      <td>Actif</td>\n",
       "    </tr>\n",
       "    <tr>\n",
       "      <th>1</th>\n",
       "      <td>Médiathèque intercommunale</td>\n",
       "      <td>35134</td>\n",
       "      <td>Bibliothèque</td>\n",
       "      <td>Bretagne</td>\n",
       "      <td>Lecture publique</td>\n",
       "      <td>47.882913</td>\n",
       "      <td>-1.442143</td>\n",
       "      <td>Actif</td>\n",
       "    </tr>\n",
       "  </tbody>\n",
       "</table>\n",
       "</div>"
      ],
      "text/plain": [
       "                                           Nom Code Postal  \\\n",
       "0  Médiathèque de l'Accolade 4 rue de la Marie       35250   \n",
       "1                   Médiathèque intercommunale       35134   \n",
       "\n",
       "  Type équipement ou lieu    Région           Domaine   Latitude  Longitude  \\\n",
       "0            Bibliothèque  Bretagne  Lecture publique  48.212062  -1.630423   \n",
       "1            Bibliothèque  Bretagne  Lecture publique  47.882913  -1.442143   \n",
       "\n",
       "  Demographie_AP  \n",
       "0          Actif  \n",
       "1          Actif  "
      ]
     },
     "execution_count": 57,
     "metadata": {},
     "output_type": "execute_result"
    }
   ],
   "source": [
    "df=df[['Nom','Code Postal','Type équipement ou lieu','Région', 'Domaine','Latitude','Longitude','Demographie_AP'\n",
    "]]\n",
    "\n",
    "df.head(2)"
   ]
  },
  {
   "cell_type": "code",
   "execution_count": 65,
   "id": "f770808c",
   "metadata": {},
   "outputs": [
    {
     "data": {
      "text/html": [
       "<div>\n",
       "<style scoped>\n",
       "    .dataframe tbody tr th:only-of-type {\n",
       "        vertical-align: middle;\n",
       "    }\n",
       "\n",
       "    .dataframe tbody tr th {\n",
       "        vertical-align: top;\n",
       "    }\n",
       "\n",
       "    .dataframe thead th {\n",
       "        text-align: right;\n",
       "    }\n",
       "</style>\n",
       "<table border=\"1\" class=\"dataframe\">\n",
       "  <thead>\n",
       "    <tr style=\"text-align: right;\">\n",
       "      <th></th>\n",
       "      <th>Nom</th>\n",
       "      <th>Code Postal</th>\n",
       "      <th>Type équipement ou lieu</th>\n",
       "      <th>Région</th>\n",
       "      <th>Domaine</th>\n",
       "      <th>Latitude</th>\n",
       "      <th>Longitude</th>\n",
       "      <th>Demographie_AP</th>\n",
       "    </tr>\n",
       "  </thead>\n",
       "  <tbody>\n",
       "    <tr>\n",
       "      <th>0</th>\n",
       "      <td>Médiathèque de l'Accolade 4 rue de la Marie</td>\n",
       "      <td>35250</td>\n",
       "      <td>Bibliothèque</td>\n",
       "      <td>Bretagne</td>\n",
       "      <td>Lecture publique</td>\n",
       "      <td>48.212062</td>\n",
       "      <td>-1.630423</td>\n",
       "      <td>Actif</td>\n",
       "    </tr>\n",
       "    <tr>\n",
       "      <th>1</th>\n",
       "      <td>Médiathèque intercommunale</td>\n",
       "      <td>35134</td>\n",
       "      <td>Bibliothèque</td>\n",
       "      <td>Bretagne</td>\n",
       "      <td>Lecture publique</td>\n",
       "      <td>47.882913</td>\n",
       "      <td>-1.442143</td>\n",
       "      <td>Actif</td>\n",
       "    </tr>\n",
       "  </tbody>\n",
       "</table>\n",
       "</div>"
      ],
      "text/plain": [
       "                                           Nom Code Postal  \\\n",
       "0  Médiathèque de l'Accolade 4 rue de la Marie       35250   \n",
       "1                   Médiathèque intercommunale       35134   \n",
       "\n",
       "  Type équipement ou lieu    Région           Domaine   Latitude  Longitude  \\\n",
       "0            Bibliothèque  Bretagne  Lecture publique  48.212062  -1.630423   \n",
       "1            Bibliothèque  Bretagne  Lecture publique  47.882913  -1.442143   \n",
       "\n",
       "  Demographie_AP  \n",
       "0          Actif  \n",
       "1          Actif  "
      ]
     },
     "execution_count": 65,
     "metadata": {},
     "output_type": "execute_result"
    }
   ],
   "source": [
    "df= df.dropna()\n",
    "df.head(2)"
   ]
  },
  {
   "cell_type": "code",
   "execution_count": 66,
   "id": "c7f368ad",
   "metadata": {},
   "outputs": [
    {
     "data": {
      "text/plain": [
       "Nom                        0\n",
       "Code Postal                0\n",
       "Type équipement ou lieu    0\n",
       "Région                     0\n",
       "Domaine                    0\n",
       "Latitude                   0\n",
       "Longitude                  0\n",
       "Demographie_AP             0\n",
       "dtype: int64"
      ]
     },
     "execution_count": 66,
     "metadata": {},
     "output_type": "execute_result"
    }
   ],
   "source": [
    "df.isna().sum()"
   ]
  }
 ],
 "metadata": {
  "kernelspec": {
   "display_name": "offre_culturelle",
   "language": "python",
   "name": "python3"
  },
  "language_info": {
   "codemirror_mode": {
    "name": "ipython",
    "version": 3
   },
   "file_extension": ".py",
   "mimetype": "text/x-python",
   "name": "python",
   "nbconvert_exporter": "python",
   "pygments_lexer": "ipython3",
   "version": "3.10.12"
  }
 },
 "nbformat": 4,
 "nbformat_minor": 5
}
