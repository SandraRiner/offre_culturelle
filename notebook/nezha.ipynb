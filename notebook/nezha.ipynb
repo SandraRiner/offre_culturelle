{
 "cells": [
  {
   "cell_type": "code",
   "execution_count": 10,
   "id": "a6c86034",
   "metadata": {},
   "outputs": [
    {
     "ename": "ModuleNotFoundError",
     "evalue": "No module named 'matplotlib'",
     "output_type": "error",
     "traceback": [
      "\u001b[0;31m---------------------------------------------------------------------------\u001b[0m",
      "\u001b[0;31mModuleNotFoundError\u001b[0m                       Traceback (most recent call last)",
      "Cell \u001b[0;32mIn[10], line 4\u001b[0m\n\u001b[1;32m      2\u001b[0m \u001b[38;5;28;01mimport\u001b[39;00m\u001b[38;5;250m \u001b[39m\u001b[38;5;21;01mnumpy\u001b[39;00m\u001b[38;5;250m \u001b[39m\u001b[38;5;28;01mas\u001b[39;00m\u001b[38;5;250m \u001b[39m\u001b[38;5;21;01mnp\u001b[39;00m\n\u001b[1;32m      3\u001b[0m \u001b[38;5;28;01mimport\u001b[39;00m\u001b[38;5;250m \u001b[39m\u001b[38;5;21;01mos\u001b[39;00m\n\u001b[0;32m----> 4\u001b[0m \u001b[38;5;28;01mimport\u001b[39;00m\u001b[38;5;250m \u001b[39m\u001b[38;5;21;01mmatplotlib\u001b[39;00m\u001b[38;5;250m \u001b[39m\u001b[38;5;28;01mas\u001b[39;00m\u001b[38;5;250m \u001b[39m\u001b[38;5;21;01mplt\u001b[39;00m\n",
      "\u001b[0;31mModuleNotFoundError\u001b[0m: No module named 'matplotlib'"
     ]
    }
   ],
   "source": [
    "import pandas as pd\n",
    "import numpy as np\n",
    "import os\n",
    "import matplotlib as plt"
   ]
  },
  {
   "cell_type": "code",
   "execution_count": 2,
   "id": "8136d74d",
   "metadata": {},
   "outputs": [
    {
     "name": "stdout",
     "output_type": "stream",
     "text": [
      "Le fichier /home/karim/code/offre_culturelle/data/adresses_des_bibliotheques_publiques_prepared.csv existe.\n"
     ]
    }
   ],
   "source": [
    "csv_path= '/home/karim/code/offre_culturelle/data/adresses_des_bibliotheques_publiques_prepared.csv' # Chemin vers le fichier CSV\n",
    "if os.path.exists(csv_path):\n",
    "    print(f\"Le fichier {csv_path} existe.\")\n",
    "    adresses_des_bibliotheques_publiques = pd.read_csv(csv_path, sep=',')\n",
    "else:\n",
    "    print(f\"Le fichier {csv_path} n'existe pas.\")"
   ]
  },
  {
   "cell_type": "code",
   "execution_count": 3,
   "id": "f0ea4041",
   "metadata": {},
   "outputs": [
    {
     "name": "stdout",
     "output_type": "stream",
     "text": [
      "  Code_bib                     nom_de_l_etablissement  \\\n",
      "0    BD101               03 - MDA annexe de Commentry   \n",
      "1   BD1034  27 - MEDIATHEQUE DEPARTEMENTALE DE L'EURE   \n",
      "2   BD1270     31 - Médiathèque départementale annexe   \n",
      "3   BD1407            34 - MEDIATHEQUE DEPARTEMENTALE   \n",
      "4  BD14653                     62 - Site de Dainville   \n",
      "\n",
      "                      Adresse  code_region                Région  \\\n",
      "0           Place de la Butte         84.0  Auvergne-Rhône-Alpes   \n",
      "1  129 AVENUE Aristide Briand         28.0             Normandie   \n",
      "2   689 Chemin de la Graouade         76.0             Occitanie   \n",
      "3   907 RUE PROFESSEUR BLAYAC         76.0             Occitanie   \n",
      "4       3 rue du 19 mars 1962         32.0       Hauts-de-France   \n",
      "\n",
      "  code_departement    Département       CP          Ville  Population commune  \\\n",
      "0               03         Allier   3600.0      Commentry                 NaN   \n",
      "1               27           Eure  27025.0         Évreux                 NaN   \n",
      "2               31  Haute-Garonne  31800.0  Saint-Gaudens                 NaN   \n",
      "3               34        Hérault  34080.0    Montpellier                 NaN   \n",
      "4               62  Pas-de-Calais  62000.0      Dainville                 NaN   \n",
      "\n",
      "   ...  depenses_action_culturelle  depenses_documentaires etp_salaries  \\\n",
      "0  ...                         NaN                     0.0          NaN   \n",
      "1  ...                    157525.0                368099.0         24.5   \n",
      "2  ...                         NaN                     0.0          NaN   \n",
      "3  ...                    132000.0                279237.0         66.2   \n",
      "4  ...                         NaN                     0.0          NaN   \n",
      "\n",
      "  etp_salaries_non_titulaires Nombre de bénévoles  \\\n",
      "0                         NaN                 NaN   \n",
      "1                         3.8                 NaN   \n",
      "2                         NaN                 NaN   \n",
      "3                         3.0                 NaN   \n",
      "4                         NaN                 NaN   \n",
      "\n",
      "   temps_de_travail_des_benevoles Nombre de salariés gratuite_des_services  \\\n",
      "0                             NaN                NaN                   NaN   \n",
      "1                             NaN               25.0                   NaN   \n",
      "2                             NaN                NaN                   NaN   \n",
      "3                             NaN               67.0                   NaN   \n",
      "4                             NaN                NaN                   NaN   \n",
      "\n",
      "   nombre_actions_culturelles  pop_touchee_actions_culturelles  \n",
      "0                         NaN                              NaN  \n",
      "1                        70.0                              NaN  \n",
      "2                         NaN                              NaN  \n",
      "3                        77.0                              NaN  \n",
      "4                         NaN                              NaN  \n",
      "\n",
      "[5 rows x 30 columns]\n",
      "<class 'pandas.core.frame.DataFrame'>\n",
      "RangeIndex: 15602 entries, 0 to 15601\n",
      "Data columns (total 30 columns):\n",
      " #   Column                           Non-Null Count  Dtype  \n",
      "---  ------                           --------------  -----  \n",
      " 0   Code_bib                         15602 non-null  object \n",
      " 1   nom_de_l_etablissement           15602 non-null  object \n",
      " 2   Adresse                          14822 non-null  object \n",
      " 3   code_region                      15600 non-null  float64\n",
      " 4   Région                           15602 non-null  object \n",
      " 5   code_departement                 15602 non-null  object \n",
      " 6   Département                      15601 non-null  object \n",
      " 7   CP                               15601 non-null  float64\n",
      " 8   Ville                            15602 non-null  object \n",
      " 9   Population commune               15446 non-null  float64\n",
      " 10  Longitude                        15451 non-null  float64\n",
      " 11  Latitude                         15451 non-null  float64\n",
      " 12  type_adresse                     15602 non-null  object \n",
      " 13  site_internet                    9899 non-null   object \n",
      " 14  site_internet_accessible         6559 non-null   object \n",
      " 15  nombre_de_places                 11492 non-null  float64\n",
      " 16  ouverture_le_dimanche            11893 non-null  object \n",
      " 17  connexion_wi_fi                  13656 non-null  object \n",
      " 18  nombre_de_livres                 13192 non-null  float64\n",
      " 19  nombre_d_entrees                 8624 non-null   float64\n",
      " 20  depenses_action_culturelle       9139 non-null   float64\n",
      " 21  depenses_documentaires           11879 non-null  float64\n",
      " 22  etp_salaries                     12706 non-null  float64\n",
      " 23  etp_salaries_non_titulaires      6597 non-null   float64\n",
      " 24  Nombre de bénévoles              12502 non-null  float64\n",
      " 25  temps_de_travail_des_benevoles   10075 non-null  float64\n",
      " 26  Nombre de salariés               12845 non-null  float64\n",
      " 27  gratuite_des_services            13630 non-null  object \n",
      " 28  nombre_actions_culturelles       9539 non-null   float64\n",
      " 29  pop_touchee_actions_culturelles  8916 non-null   float64\n",
      "dtypes: float64(17), object(13)\n",
      "memory usage: 3.6+ MB\n",
      "None\n",
      "        code_region            CP  Population commune     Longitude  \\\n",
      "count  15600.000000  15601.000000        1.544600e+04  15451.000000   \n",
      "mean      55.517500  47913.114416        2.015326e+04      2.434644   \n",
      "std       25.665454  26373.547073        1.493182e+05      6.831847   \n",
      "min        0.000000   1000.000000        0.000000e+00    -62.848964   \n",
      "25%       32.000000  26300.000000        6.740000e+02      0.481542   \n",
      "50%       53.000000  47220.000000        1.469000e+03      2.530075   \n",
      "75%       76.000000  69780.000000        4.106500e+03      4.671686   \n",
      "max       94.000000  98834.000000        2.149216e+06    166.727000   \n",
      "\n",
      "           Latitude  nombre_de_places  nombre_de_livres  nombre_d_entrees  \\\n",
      "count  15451.000000      11492.000000      1.319200e+04      8.624000e+03   \n",
      "mean      46.168689         29.194831      1.192534e+04      9.678557e+03   \n",
      "std        5.922397         51.006351      3.818005e+04      3.619420e+04   \n",
      "min      -22.085000          0.000000      0.000000e+00      0.000000e+00   \n",
      "25%       44.949317         10.000000      1.978000e+03      5.090000e+02   \n",
      "50%       46.804932         16.000000      4.468500e+03      1.703500e+03   \n",
      "75%       48.492947         30.000000      1.020400e+04      5.829500e+03   \n",
      "max       51.070155       1968.000000      2.501861e+06      2.071805e+06   \n",
      "\n",
      "       depenses_action_culturelle  depenses_documentaires  etp_salaries  \\\n",
      "count                 9139.000000            11879.000000  12706.000000   \n",
      "mean                  2673.157457             9619.728092      1.796219   \n",
      "std                   9269.671416            31437.720033      5.404508   \n",
      "min                      0.000000                0.000000      0.000000   \n",
      "25%                      0.000000              478.500000      0.000000   \n",
      "50%                    170.000000             1999.000000      0.200000   \n",
      "75%                   1772.000000             6650.500000      1.350000   \n",
      "max                 270000.000000           651883.000000    215.480000   \n",
      "\n",
      "       etp_salaries_non_titulaires  Nombre de bénévoles  \\\n",
      "count                  6597.000000         12502.000000   \n",
      "mean                      0.445740             5.187010   \n",
      "std                       1.886044             5.596152   \n",
      "min                       0.000000             0.000000   \n",
      "25%                       0.000000             0.000000   \n",
      "50%                       0.000000             4.000000   \n",
      "75%                       0.500000             8.000000   \n",
      "max                     117.050000            78.000000   \n",
      "\n",
      "       temps_de_travail_des_benevoles  Nombre de salariés  \\\n",
      "count                    10075.000000        12845.000000   \n",
      "mean                         0.650208            2.172674   \n",
      "std                          1.691110            6.111551   \n",
      "min                          0.000000            0.000000   \n",
      "25%                          0.000000            0.000000   \n",
      "50%                          0.180000            1.000000   \n",
      "75%                          0.500000            2.000000   \n",
      "max                         29.000000          248.000000   \n",
      "\n",
      "       nombre_actions_culturelles  pop_touchee_actions_culturelles  \n",
      "count                 9539.000000                      8916.000000  \n",
      "mean                    72.914456                       850.999215  \n",
      "std                    804.448460                      2658.119554  \n",
      "min                      0.000000                         0.000000  \n",
      "25%                      8.000000                        80.000000  \n",
      "50%                     22.000000                       270.000000  \n",
      "75%                     53.000000                       800.000000  \n",
      "max                  73606.000000                    113095.000000  \n"
     ]
    }
   ],
   "source": [
    "print(adresses_des_bibliotheques_publiques.head()) # 5 rows x 46 columns\n",
    "print(adresses_des_bibliotheques_publiques.info()) # 15 704 données - dtypes: float64(26), object(20)\n",
    "print(adresses_des_bibliotheques_publiques.describe())"
   ]
  },
  {
   "cell_type": "code",
   "execution_count": 4,
   "id": "555f53b6",
   "metadata": {},
   "outputs": [
    {
     "name": "stdout",
     "output_type": "stream",
     "text": [
      "Région\n",
      "Auvergne-Rhône-Alpes          2610\n",
      "Occitanie                     1982\n",
      "Nouvelle-Aquitaine            1846\n",
      "Grand Est                     1325\n",
      "Hauts-de-France               1243\n",
      "Bourgogne-Franche-Comté       1069\n",
      "Bretagne                      1068\n",
      "Pays de la Loire              1020\n",
      "Île-de-France                 1009\n",
      "Centre-Val de Loire            796\n",
      "Provence-Aples-Côte d'Azur     710\n",
      "Normandie                      694\n",
      "La Réunion                      72\n",
      "Corse                           52\n",
      "Guadeloupe                      38\n",
      "Martinique                      30\n",
      "Guyane                          24\n",
      "Mayotte                         14\n",
      "Name: count, dtype: int64\n"
     ]
    }
   ],
   "source": [
    "print(adresses_des_bibliotheques_publiques['Région'].value_counts(dropna=False)) # Affiche le nombre de bibliothèques par région, y compris les valeurs manquantes"
   ]
  },
  {
   "cell_type": "code",
   "execution_count": 5,
   "id": "59d442f0",
   "metadata": {},
   "outputs": [
    {
     "name": "stdout",
     "output_type": "stream",
     "text": [
      "0\n"
     ]
    }
   ],
   "source": [
    "print(adresses_des_bibliotheques_publiques['Région'].isna().sum()) # Affiche le nombre de valeurs manquantes dans la colonne 'Région'"
   ]
  },
  {
   "cell_type": "code",
   "execution_count": 7,
   "id": "34fba2fb",
   "metadata": {},
   "outputs": [
    {
     "name": "stdout",
     "output_type": "stream",
     "text": [
      "Région\n",
      "Auvergne-Rhône-Alpes          2610\n",
      "Bourgogne-Franche-Comté       1069\n",
      "Bretagne                      1068\n",
      "Centre-Val de Loire            796\n",
      "Corse                           52\n",
      "Grand Est                     1325\n",
      "Guadeloupe                      38\n",
      "Guyane                          24\n",
      "Hauts-de-France               1243\n",
      "La Réunion                      72\n",
      "Martinique                      30\n",
      "Mayotte                         14\n",
      "Normandie                      694\n",
      "Nouvelle-Aquitaine            1846\n",
      "Occitanie                     1982\n",
      "Pays de la Loire              1020\n",
      "Provence-Aples-Côte d'Azur     710\n",
      "Île-de-France                 1009\n",
      "Name: count, dtype: int64\n"
     ]
    }
   ],
   "source": [
    "region_counts_sorted = region_counts.sort_index() # Tri par ordre alphabétique les régions\n",
    "print(region_counts_sorted)"
   ]
  },
  {
   "cell_type": "code",
   "execution_count": 8,
   "id": "09667ef2",
   "metadata": {},
   "outputs": [
    {
     "ename": "ModuleNotFoundError",
     "evalue": "No module named 'matplotlib'",
     "output_type": "error",
     "traceback": [
      "\u001b[0;31m---------------------------------------------------------------------------\u001b[0m",
      "\u001b[0;31mModuleNotFoundError\u001b[0m                       Traceback (most recent call last)",
      "Cell \u001b[0;32mIn[8], line 1\u001b[0m\n\u001b[0;32m----> 1\u001b[0m \u001b[38;5;28;01mimport\u001b[39;00m\u001b[38;5;250m \u001b[39m\u001b[38;5;21;01mmatplotlib\u001b[39;00m\u001b[38;5;21;01m.\u001b[39;00m\u001b[38;5;21;01mpyplot\u001b[39;00m\u001b[38;5;250m \u001b[39m\u001b[38;5;28;01mas\u001b[39;00m\u001b[38;5;250m \u001b[39m\u001b[38;5;21;01mplt\u001b[39;00m\n\u001b[1;32m      3\u001b[0m region_counts\u001b[38;5;241m.\u001b[39mplot(kind\u001b[38;5;241m=\u001b[39m\u001b[38;5;124m'\u001b[39m\u001b[38;5;124mbarh\u001b[39m\u001b[38;5;124m'\u001b[39m, figsize\u001b[38;5;241m=\u001b[39m(\u001b[38;5;241m10\u001b[39m, \u001b[38;5;241m8\u001b[39m), title\u001b[38;5;241m=\u001b[39m\u001b[38;5;124m\"\u001b[39m\u001b[38;5;124mNombre de bibliothèques par région\u001b[39m\u001b[38;5;124m\"\u001b[39m)\n\u001b[1;32m      4\u001b[0m plt\u001b[38;5;241m.\u001b[39mxlabel(\u001b[38;5;124m\"\u001b[39m\u001b[38;5;124mNombre de bibliothèques\u001b[39m\u001b[38;5;124m\"\u001b[39m)\n",
      "\u001b[0;31mModuleNotFoundError\u001b[0m: No module named 'matplotlib'"
     ]
    }
   ],
   "source": [
    "import matplotlib.pyplot as plt\n",
    "\n",
    "region_counts.plot(kind='barh', figsize=(10, 8), title=\"Nombre de bibliothèques par région\")\n",
    "plt.xlabel(\"Nombre de bibliothèques\")\n",
    "plt.ylabel(\"Région\")\n",
    "plt.tight_layout()\n",
    "plt.show()"
   ]
  }
 ],
 "metadata": {
  "kernelspec": {
   "display_name": "Python 3.10.12 (pyenv)",
   "language": "python",
   "name": "pyenv-3.10.12"
  },
  "language_info": {
   "codemirror_mode": {
    "name": "ipython",
    "version": 3
   },
   "file_extension": ".py",
   "mimetype": "text/x-python",
   "name": "python",
   "nbconvert_exporter": "python",
   "pygments_lexer": "ipython3",
   "version": "3.10.12"
  }
 },
 "nbformat": 4,
 "nbformat_minor": 5
}
